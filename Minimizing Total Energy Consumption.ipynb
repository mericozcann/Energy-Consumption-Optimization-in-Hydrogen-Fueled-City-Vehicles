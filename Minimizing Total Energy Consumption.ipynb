{
 "cells": [
  {
   "cell_type": "code",
   "execution_count": 4,
   "id": "553babab-e35b-43ca-99e1-81b771d6497b",
   "metadata": {},
   "outputs": [
    {
     "data": {
      "text/plain": [
       "(array([50., 30., 15.]), np.float64(1.8000000000000007))"
      ]
     },
     "execution_count": 4,
     "metadata": {},
     "output_type": "execute_result"
    }
   ],
   "source": [
    "import numpy as np\n",
    "from scipy.optimize import minimize\n",
    "\n",
    "# Sabit parametreler\n",
    "m = 1400  # Araç kütlesi (kg)\n",
    "A = 2.11  # Ön alan (m²)\n",
    "C_d = 0.337  # Hava direnci katsayısı\n",
    "r = 0.297  # Tekerlek yarıçapı (m)\n",
    "C_rr = 0.015  # Yuvarlanma direnci katsayısı\n",
    "i = 6.6  # Vites oranı\n",
    "V_batt = 240  # Batarya voltajı (V)\n",
    "SOC_min, SOC_max = 0.15, 0.95  # SOC aralığı\n",
    "I_min, I_max = -120, 400  # Akım aralığı (A)\n",
    "P_cell_max = 10e3  # Yakıt hücresi maksimum gücü (W)\n",
    "η_rec = 0.75  # Enerji geri kazanım verimliliği\n",
    "η_BMS = 0.97  # BMS verimliliği\n",
    "t_race = 3600  # 1 saatlik yarışma süresi (s)\n",
    "ρ_air = 1.225  # Havanın yoğunluğu (kg/m³)\n",
    "g = 9.81  # Yerçekimi ivmesi (m/s²)\n",
    "\n",
    "# Motor parametreleri (örnek olarak iç rotor motoru seçiyoruz)\n",
    "P_max = 25e3  # Maksimum güç (W)\n",
    "τ_max = 90  # Maksimum tork (Nm)\n",
    "n_nominal = 4000  # Nominal devir sayısı (r/min)\n",
    "η_motor = 0.9  # Motor verimliliği\n",
    "\n",
    "# Genişletilmiş model fonksiyonları\n",
    "def calculate_drag_force(C_d, A, ρ_air, velocity):\n",
    "    return 0.5 * C_d * A * ρ_air * velocity**2\n",
    "\n",
    "def calculate_rolling_resistance(C_rr, m, g):\n",
    "    return C_rr * m * g\n",
    "\n",
    "def calculate_gravitational_force(m, g, slope):\n",
    "    return m * g * np.sin(np.radians(slope))\n",
    "\n",
    "def model(I, V, P_cell, C_d, m, slope, T_env, η_rec, η_BMS, velocity):\n",
    "    F_drag = calculate_drag_force(C_d, A, ρ_air, velocity)  # Hava direnci kuvveti\n",
    "    F_rr = calculate_rolling_resistance(C_rr, m, g)  # Yuvarlanma direnci kuvveti\n",
    "    F_gravity = calculate_gravitational_force(m, g, slope)  # Gravitasyon kuvveti (eğim)\n",
    "   \n",
    "    F_total = F_drag + F_rr + F_gravity  # Toplam kuvvet\n",
    "   \n",
    "    P_motor = V * I * η_motor  # Motor gücü (W)\n",
    "    τ = τ_max * (P_motor / P_max)  # Tork (Nm)\n",
    "    n = P_motor / τ  # Devir sayısı (RPM)\n",
    "   \n",
    "    E_total = (P_motor / η_rec) * t_race  # Toplam enerji tüketimi (Joule)\n",
    "    R = (P_cell * t_race) / E_total  # Menzil (m)\n",
    "   \n",
    "    return P_motor, τ, n, E_total, R\n",
    "\n",
    "# Optimizasyon amacı: Toplam enerji tüketimini minimize etmek\n",
    "def objective(x):\n",
    "    I, V, velocity = x  # Akım, voltaj ve hız değerleri\n",
    "    P_motor, τ, n, E_total, R = model(I, V, P_cell_max, C_d, m, 0, 25, η_rec, η_BMS, velocity)\n",
    "    return E_total / 3.6e6  # Enerji tüketimini kWh cinsine çeviriyoruz\n",
    "\n",
    "# Kısıtlar\n",
    "def constraint1(x):\n",
    "    I, V, velocity = x\n",
    "    P_motor, _, _, _, _ = model(I, V, P_cell_max, C_d, m, 0, 25, η_rec, η_BMS, velocity)\n",
    "    return P_max - P_motor  # Motor gücünün maksimumu aşmaması\n",
    "\n",
    "def constraint2(x):\n",
    "    I, V, velocity = x\n",
    "    P_motor, _, _, _, _ = model(I, V, P_cell_max, C_d, m, 0, 25, η_rec, η_BMS, velocity)\n",
    "    return P_cell_max - V * I  # Yakıt hücresi gücünün maksimumu aşmaması\n",
    "\n",
    "# Başlangıç tahminleri ve sınırlar\n",
    "x0 = [I_max / 2, V_batt / 2, 15]  # 15 m/s (54 km/h) başlangıç hızı\n",
    "bounds = [(50, I_max), (30, V_batt), (10, 30)]  # Voltaj, akım ve hız sınırları\n",
    "\n",
    "# Kısıtların tanımlanması\n",
    "constraints = [{'type': 'ineq', 'fun': constraint1},\n",
    "               {'type': 'ineq', 'fun': constraint2}]\n",
    "\n",
    "# Optimizasyon işleminin gerçekleştirilmesi\n",
    "result_refined = minimize(objective, x0, method='SLSQP', bounds=bounds, constraints=constraints)\n",
    "\n",
    "# Optimizasyon sonucu\n",
    "result_refined.x, result_refined.fun\n",
    "\n",
    "#Sonuçların Yorumlanması \n",
    "#result_refined.x: Bu dizi, optimizasyon sonucu bulunan en iyi akım, voltaj ve hız değerlerini içerir. \n",
    "#result_refined.fun: Bu değer, bu en iyi değerler için elde edilen minimum enerji tüketimini (kWh cinsinden) gösterir."
   ]
  },
  {
   "cell_type": "code",
   "execution_count": null,
   "id": "ec9245ac-72ad-422f-bd7c-b0ff9bf8ace5",
   "metadata": {},
   "outputs": [],
   "source": []
  }
 ],
 "metadata": {
  "kernelspec": {
   "display_name": "Python 3 (ipykernel)",
   "language": "python",
   "name": "python3"
  },
  "language_info": {
   "codemirror_mode": {
    "name": "ipython",
    "version": 3
   },
   "file_extension": ".py",
   "mimetype": "text/x-python",
   "name": "python",
   "nbconvert_exporter": "python",
   "pygments_lexer": "ipython3",
   "version": "3.12.4"
  }
 },
 "nbformat": 4,
 "nbformat_minor": 5
}
