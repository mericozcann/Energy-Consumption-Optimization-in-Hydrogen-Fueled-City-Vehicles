{
 "cells": [
  {
   "cell_type": "code",
   "execution_count": 3,
   "id": "317ce75a-e8fe-4acd-b96e-02ee10720bd9",
   "metadata": {},
   "outputs": [
    {
     "name": "stdout",
     "output_type": "stream",
     "text": [
      "Optimizasyon Sonucu: [33.36471701  9.36427452]\n",
      "Minimum Enerji Tüketimi: 312.4363693504679\n",
      "Optimal Motor Gerilimi: 33.364717011778026 V\n",
      "Optimal Motor Akımı: 9.364274519102777 A\n",
      "Minimum Enerji Tüketimi: 312.4363693504679 W\n"
     ]
    }
   ],
   "source": [
    "# Gerekli kütüphanelerin import edilmesi\n",
    "import numpy as np\n",
    "from scipy.optimize import differential_evolution\n",
    "\n",
    "# Gerçek veri parametrelerinin tanımlanması\n",
    "\n",
    "# Enerji Sistemi Parametreleri\n",
    "yakit_pili_gerilimi = 50  # V\n",
    "dc_dc_donusturucu_akim = 15  # A\n",
    "dc_dc_donusturucu_gerilim = 24  # V\n",
    "motor_gerilimi = 24  # V\n",
    "motor_akimi = 10  # A\n",
    "\n",
    "# Performans Gereksinimleri\n",
    "baslangic_torku = 3.52  # Nm\n",
    "baslangic_gucu = 312.4  # W\n",
    "sabit_hiz_torku = 0.143  # Nm\n",
    "sabit_hiz_gucu = 48.57  # W\n",
    "\n",
    "# Hidrojen Yakıt Pili Özellikleri\n",
    "hidrojen_yakit_pili_max_guc = 330  # W\n",
    "\n",
    "# Hedef fonksiyonun tanımlanması\n",
    "# Amaç: Motorun enerji tüketimini minimize etmek\n",
    "\n",
    "def hedef_fonksiyon(x):\n",
    "    # x[0]: motor gerilimi, x[1]: motor akımı\n",
    "    gerilim, akim = x\n",
    "    if gerilim <= 0 or akim <= 0:\n",
    "        return float('inf')  # Geçersiz veya negatif değerler\n",
    "    \n",
    "    güç = gerilim * akim  # Basit bir güç hesaplaması\n",
    "    \n",
    "    # Performans koşulunu sağlıyoruz\n",
    "    if güç >= baslangic_gucu and güç <= hidrojen_yakit_pili_max_guc:\n",
    "        enerji_tuketimi = gerilim * akim  # Basit bir enerji tüketimi tanımı\n",
    "        return enerji_tuketimi  # Tüketimi minimize etmek istiyoruz\n",
    "    else:\n",
    "        return float('inf')  # Uygun olmayan çözüm\n",
    "\n",
    "# Optimizasyon Parametrelerinin Belirlenmesi\n",
    "# Parametre sınırları: motor gerilimi ve motor akımı\n",
    "\n",
    "sinirlar = [(20, 36), (1, 15)]  # [(motor gerilimi aralığı), (motor akımı aralığı)]\n",
    "\n",
    "# Optimizasyonun yapılması\n",
    "result = differential_evolution(hedef_fonksiyon, sinirlar, tol=0.01, maxiter=1000)\n",
    "print(\"Optimizasyon Sonucu:\", result.x)\n",
    "print(\"Minimum Enerji Tüketimi:\", result.fun)\n",
    "\n",
    "# Optimizasyon sonuçlarının analizi ve çıktıları\n",
    "# Optimizasyon sonucunda elde edilen motor gerilimi ve akımı\n",
    "optimal_motor_gerilimi = result.x[0]\n",
    "optimal_motor_akimi = result.x[1]\n",
    "\n",
    "print(f\"Optimal Motor Gerilimi: {optimal_motor_gerilimi} V\")\n",
    "print(f\"Optimal Motor Akımı: {optimal_motor_akimi} A\")\n",
    "print(f\"Minimum Enerji Tüketimi: {result.fun} W\")\n"
   ]
  }
 ],
 "metadata": {
  "kernelspec": {
   "display_name": "Python 3 (ipykernel)",
   "language": "python",
   "name": "python3"
  },
  "language_info": {
   "codemirror_mode": {
    "name": "ipython",
    "version": 3
   },
   "file_extension": ".py",
   "mimetype": "text/x-python",
   "name": "python",
   "nbconvert_exporter": "python",
   "pygments_lexer": "ipython3",
   "version": "3.12.4"
  }
 },
 "nbformat": 4,
 "nbformat_minor": 5
}
